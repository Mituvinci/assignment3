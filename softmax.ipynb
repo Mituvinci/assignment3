{
 "cells": [
  {
   "cell_type": "markdown",
   "metadata": {},
   "source": [
    "# Softmax exercise\n",
    "\n",
    "*Complete and hand in this completed worksheet (including its outputs and any supporting code outside of the worksheet) with your assignment submission. For more details see the [assignments page](http://vision.stanford.edu/teaching/cs231n/assignments.html) on the course website.*\n",
    "\n",
    "This exercise is analogous to the SVM exercise. You will:\n",
    "\n",
    "- implement a fully-vectorized **loss function** for the Softmax classifier\n",
    "- implement the fully-vectorized expression for its **analytic gradient**\n",
    "- **check your implementation** with numerical gradient\n",
    "- use a validation set to **tune the learning rate and regularization** strength\n",
    "- **optimize** the loss function with **SGD**\n",
    "- **visualize** the final learned weights\n"
   ]
  },
  {
   "cell_type": "code",
   "execution_count": 1,
   "metadata": {
    "collapsed": false
   },
   "outputs": [],
   "source": [
    "import random\n",
    "import numpy as np\n",
    "from cs231n.data_utils import load_CIFAR10\n",
    "import matplotlib.pyplot as plt\n",
    "\n",
    "from __future__ import print_function\n",
    "\n",
    "%matplotlib inline\n",
    "plt.rcParams['figure.figsize'] = (10.0, 8.0) # set default size of plots\n",
    "plt.rcParams['image.interpolation'] = 'nearest'\n",
    "plt.rcParams['image.cmap'] = 'gray'\n",
    "\n",
    "# for auto-reloading extenrnal modules\n",
    "# see http://stackoverflow.com/questions/1907993/autoreload-of-modules-in-ipython\n",
    "%load_ext autoreload\n",
    "%autoreload 2"
   ]
  },
  {
   "cell_type": "code",
   "execution_count": 2,
   "metadata": {
    "collapsed": false
   },
   "outputs": [
    {
     "name": "stdout",
     "output_type": "stream",
     "text": [
      "Train data shape:  (49000, 3073)\n",
      "Train labels shape:  (49000,)\n",
      "Validation data shape:  (1000, 3073)\n",
      "Validation labels shape:  (1000,)\n",
      "Test data shape:  (1000, 3073)\n",
      "Test labels shape:  (1000,)\n",
      "dev data shape:  (500, 3073)\n",
      "dev labels shape:  (500,)\n"
     ]
    }
   ],
   "source": [
    "def get_CIFAR10_data(num_training=49000, num_validation=1000, num_test=1000, num_dev=500):\n",
    "    \"\"\"\n",
    "    Load the CIFAR-10 dataset from disk and perform preprocessing to prepare\n",
    "    it for the linear classifier. These are the same steps as we used for the\n",
    "    SVM, but condensed to a single function.  \n",
    "    \"\"\"\n",
    "    # Load the raw CIFAR-10 data\n",
    "    cifar10_dir = 'cs231n/datasets/cifar-10-batches-py'\n",
    "    X_train, y_train, X_test, y_test = load_CIFAR10(cifar10_dir)\n",
    "    \n",
    "    # subsample the data\n",
    "    mask = list(range(num_training, num_training + num_validation))\n",
    "    X_val = X_train[mask]\n",
    "    y_val = y_train[mask]\n",
    "    mask = list(range(num_training))\n",
    "    X_train = X_train[mask]\n",
    "    y_train = y_train[mask]\n",
    "    mask = list(range(num_test))\n",
    "    X_test = X_test[mask]\n",
    "    y_test = y_test[mask]\n",
    "    mask = np.random.choice(num_training, num_dev, replace=False)\n",
    "    X_dev = X_train[mask]\n",
    "    y_dev = y_train[mask]\n",
    "    \n",
    "    # Preprocessing: reshape the image data into rows\n",
    "    X_train = np.reshape(X_train, (X_train.shape[0], -1))\n",
    "    X_val = np.reshape(X_val, (X_val.shape[0], -1))\n",
    "    X_test = np.reshape(X_test, (X_test.shape[0], -1))\n",
    "    X_dev = np.reshape(X_dev, (X_dev.shape[0], -1))\n",
    "    \n",
    "    # Normalize the data: subtract the mean image\n",
    "    mean_image = np.mean(X_train, axis = 0)\n",
    "    X_train -= mean_image\n",
    "    X_val -= mean_image\n",
    "    X_test -= mean_image\n",
    "    X_dev -= mean_image\n",
    "    \n",
    "    # add bias dimension and transform into columns\n",
    "    X_train = np.hstack([X_train, np.ones((X_train.shape[0], 1))])\n",
    "    X_val = np.hstack([X_val, np.ones((X_val.shape[0], 1))])\n",
    "    X_test = np.hstack([X_test, np.ones((X_test.shape[0], 1))])\n",
    "    X_dev = np.hstack([X_dev, np.ones((X_dev.shape[0], 1))])\n",
    "    \n",
    "    return X_train, y_train, X_val, y_val, X_test, y_test, X_dev, y_dev\n",
    "\n",
    "\n",
    "# Invoke the above function to get our data.\n",
    "X_train, y_train, X_val, y_val, X_test, y_test, X_dev, y_dev = get_CIFAR10_data()\n",
    "print('Train data shape: ', X_train.shape)\n",
    "print('Train labels shape: ', y_train.shape)\n",
    "print('Validation data shape: ', X_val.shape)\n",
    "print('Validation labels shape: ', y_val.shape)\n",
    "print('Test data shape: ', X_test.shape)\n",
    "print('Test labels shape: ', y_test.shape)\n",
    "print('dev data shape: ', X_dev.shape)\n",
    "print('dev labels shape: ', y_dev.shape)"
   ]
  },
  {
   "cell_type": "markdown",
   "metadata": {},
   "source": [
    "## Softmax Classifier\n",
    "\n",
    "Your code for this section will all be written inside **cs231n/classifiers/softmax.py**. \n"
   ]
  },
  {
   "cell_type": "code",
   "execution_count": 3,
   "metadata": {
    "collapsed": false
   },
   "outputs": [
    {
     "name": "stdout",
     "output_type": "stream",
     "text": [
      "loss: 2.364290\n",
      "sanity check: 2.302585\n"
     ]
    }
   ],
   "source": [
    "# First implement the naive softmax loss function with nested loops.\n",
    "# Open the file cs231n/classifiers/softmax.py and implement the\n",
    "# softmax_loss_naive function.\n",
    "\n",
    "from cs231n.classifiers.softmax import softmax_loss_naive\n",
    "import time\n",
    "\n",
    "# Generate a random softmax weight matrix and use it to compute the loss.\n",
    "W = np.random.randn(3073, 10) * 0.0001\n",
    "loss, grad = softmax_loss_naive(W, X_dev, y_dev, 0.0)\n",
    "\n",
    "# As a rough sanity check, our loss should be something close to -log(0.1).\n",
    "print('loss: %f' % loss)\n",
    "print('sanity check: %f' % (-np.log(0.1)))"
   ]
  },
  {
   "cell_type": "markdown",
   "metadata": {},
   "source": [
    "## Inline Question 1:\n",
    "Why do we expect our loss to be close to -log(0.1)? Explain briefly.**\n",
    "\n",
    "**Your answer:** *Fill this in*\n"
   ]
  },
  {
   "cell_type": "code",
   "execution_count": 4,
   "metadata": {
    "collapsed": false
   },
   "outputs": [
    {
     "name": "stdout",
     "output_type": "stream",
     "text": [
      "numerical: -0.819051 analytic: -0.819051, relative error: 2.516067e-08\n",
      "numerical: -1.902274 analytic: -1.902274, relative error: 1.132229e-08\n",
      "numerical: 0.429601 analytic: 0.429602, relative error: 2.347546e-08\n",
      "numerical: -1.263244 analytic: -1.263244, relative error: 2.288976e-09\n",
      "numerical: -0.151918 analytic: -0.151918, relative error: 4.644003e-07\n",
      "numerical: -0.757479 analytic: -0.757479, relative error: 3.878331e-10\n",
      "numerical: 0.756574 analytic: 0.756574, relative error: 6.903562e-08\n",
      "numerical: 0.569896 analytic: 0.569896, relative error: 1.300476e-07\n",
      "numerical: -2.917837 analytic: -2.917837, relative error: 2.796774e-09\n",
      "numerical: -0.689661 analytic: -0.689661, relative error: 2.507325e-09\n",
      "numerical: -1.196378 analytic: -1.196378, relative error: 3.377042e-09\n",
      "numerical: 1.008448 analytic: 1.008448, relative error: 2.081512e-08\n",
      "numerical: -1.784537 analytic: -1.784537, relative error: 1.208739e-08\n",
      "numerical: -0.043140 analytic: -0.043140, relative error: 4.105223e-07\n",
      "numerical: -0.363290 analytic: -0.363290, relative error: 1.392206e-07\n",
      "numerical: -0.041969 analytic: -0.041969, relative error: 1.493907e-06\n",
      "numerical: -3.673881 analytic: -3.673881, relative error: 2.108308e-08\n",
      "numerical: 0.517876 analytic: 0.517876, relative error: 3.652116e-08\n",
      "numerical: 2.237904 analytic: 2.237904, relative error: 8.622750e-09\n",
      "numerical: 0.636426 analytic: 0.636426, relative error: 5.703463e-08\n"
     ]
    }
   ],
   "source": [
    "# Complete the implementation of softmax_loss_naive and implement a (naive)\n",
    "# version of the gradient that uses nested loops.\n",
    "loss, grad = softmax_loss_naive(W, X_dev, y_dev, 0.0)\n",
    "\n",
    "# As we did for the SVM, use numeric gradient checking as a debugging tool.\n",
    "# The numeric gradient should be close to the analytic gradient.\n",
    "from cs231n.gradient_check import grad_check_sparse\n",
    "f = lambda w: softmax_loss_naive(w, X_dev, y_dev, 0.0)[0]\n",
    "grad_numerical = grad_check_sparse(f, W, grad, 10)\n",
    "\n",
    "# similar to SVM case, do another gradient check with regularization\n",
    "loss, grad = softmax_loss_naive(W, X_dev, y_dev, 5e1)\n",
    "f = lambda w: softmax_loss_naive(w, X_dev, y_dev, 5e1)[0]\n",
    "grad_numerical = grad_check_sparse(f, W, grad, 10)"
   ]
  },
  {
   "cell_type": "code",
   "execution_count": 5,
   "metadata": {
    "collapsed": false
   },
   "outputs": [
    {
     "name": "stdout",
     "output_type": "stream",
     "text": [
      "naive loss: 2.364290e+00 computed in 0.411297s\n",
      "vectorized loss: 2.364290e+00 computed in 0.118087s\n",
      "Loss difference: 0.000000\n",
      "Gradient difference: 0.000000\n"
     ]
    }
   ],
   "source": [
    "# Now that we have a naive implementation of the softmax loss function and its gradient,\n",
    "# implement a vectorized version in softmax_loss_vectorized.\n",
    "# The two versions should compute the same results, but the vectorized version should be\n",
    "# much faster.\n",
    "tic = time.time()\n",
    "loss_naive, grad_naive = softmax_loss_naive(W, X_dev, y_dev, 0.000005)\n",
    "toc = time.time()\n",
    "print('naive loss: %e computed in %fs' % (loss_naive, toc - tic))\n",
    "\n",
    "from cs231n.classifiers.softmax import softmax_loss_vectorized\n",
    "tic = time.time()\n",
    "loss_vectorized, grad_vectorized = softmax_loss_vectorized(W, X_dev, y_dev, 0.000005)\n",
    "toc = time.time()\n",
    "print('vectorized loss: %e computed in %fs' % (loss_vectorized, toc - tic))\n",
    "\n",
    "# As we did for the SVM, we use the Frobenius norm to compare the two versions\n",
    "# of the gradient.\n",
    "grad_difference = np.linalg.norm(grad_naive - grad_vectorized, ord='fro')\n",
    "print('Loss difference: %f' % np.abs(loss_naive - loss_vectorized))\n",
    "print('Gradient difference: %f' % grad_difference)"
   ]
  },
  {
   "cell_type": "code",
   "execution_count": 6,
   "metadata": {
    "collapsed": false
   },
   "outputs": [
    {
     "name": "stdout",
     "output_type": "stream",
     "text": [
      "iteration 0 / 2000: loss 393.561997\n",
      "iteration 100 / 2000: loss 4.029150\n",
      "iteration 200 / 2000: loss 2.074405\n",
      "iteration 300 / 2000: loss 1.984356\n",
      "iteration 400 / 2000: loss 2.038263\n",
      "iteration 500 / 2000: loss 1.965370\n",
      "iteration 600 / 2000: loss 1.992628\n",
      "iteration 700 / 2000: loss 2.108490\n",
      "iteration 800 / 2000: loss 1.957803\n",
      "iteration 900 / 2000: loss 2.010664\n",
      "iteration 1000 / 2000: loss 2.007536\n",
      "iteration 1100 / 2000: loss 2.093233\n",
      "iteration 1200 / 2000: loss 1.995622\n",
      "iteration 1300 / 2000: loss 1.937409\n",
      "iteration 1400 / 2000: loss 2.010689\n",
      "iteration 1500 / 2000: loss 2.073167\n",
      "iteration 1600 / 2000: loss 2.048522\n",
      "iteration 1700 / 2000: loss 2.016025\n",
      "iteration 1800 / 2000: loss 2.094267\n",
      "iteration 1900 / 2000: loss 2.035410\n",
      "iteration 0 / 2000: loss 779.817558\n",
      "iteration 100 / 2000: loss 7.287850\n",
      "iteration 200 / 2000: loss 2.145681\n",
      "iteration 300 / 2000: loss 2.150313\n",
      "iteration 400 / 2000: loss 2.112988\n",
      "iteration 500 / 2000: loss 2.072317\n",
      "iteration 600 / 2000: loss 2.058079\n",
      "iteration 700 / 2000: loss 2.092301\n",
      "iteration 800 / 2000: loss 2.081016\n",
      "iteration 900 / 2000: loss 2.163996\n",
      "iteration 1000 / 2000: loss 2.228682\n",
      "iteration 1100 / 2000: loss 2.128218\n",
      "iteration 1200 / 2000: loss 2.079365\n",
      "iteration 1300 / 2000: loss 2.022729\n",
      "iteration 1400 / 2000: loss 2.164143\n",
      "iteration 1500 / 2000: loss 2.091753\n",
      "iteration 1600 / 2000: loss 2.063098\n",
      "iteration 1700 / 2000: loss 2.052612\n",
      "iteration 1800 / 2000: loss 2.100919\n",
      "iteration 1900 / 2000: loss 2.127539\n",
      "iteration 0 / 2000: loss 392.047177\n",
      "iteration 100 / 2000: loss 2.458438\n",
      "iteration 200 / 2000: loss 2.110919\n",
      "iteration 300 / 2000: loss 2.194008\n",
      "iteration 400 / 2000: loss 2.184532\n",
      "iteration 500 / 2000: loss 2.132516\n",
      "iteration 600 / 2000: loss 2.216237\n",
      "iteration 700 / 2000: loss 2.145343\n",
      "iteration 800 / 2000: loss 2.075652\n",
      "iteration 900 / 2000: loss 2.178749\n",
      "iteration 1000 / 2000: loss 1.936295\n",
      "iteration 1100 / 2000: loss 2.097468\n",
      "iteration 1200 / 2000: loss 2.101177\n",
      "iteration 1300 / 2000: loss 2.160036\n",
      "iteration 1400 / 2000: loss 2.112050\n",
      "iteration 1500 / 2000: loss 2.143514\n",
      "iteration 1600 / 2000: loss 2.096846\n",
      "iteration 1700 / 2000: loss 2.109230\n",
      "iteration 1800 / 2000: loss 2.243646\n",
      "iteration 1900 / 2000: loss 2.186376\n",
      "iteration 0 / 2000: loss 766.020322\n",
      "iteration 100 / 2000: loss 6.610939\n",
      "iteration 200 / 2000: loss 2.261318\n",
      "iteration 300 / 2000: loss 2.215943\n",
      "iteration 400 / 2000: loss 2.203615\n",
      "iteration 500 / 2000: loss 2.171508\n",
      "iteration 600 / 2000: loss 2.288113\n",
      "iteration 700 / 2000: loss 2.159429\n",
      "iteration 800 / 2000: loss 2.172167\n",
      "iteration 900 / 2000: loss 2.139346\n",
      "iteration 1000 / 2000: loss 2.194167\n",
      "iteration 1100 / 2000: loss 2.164029\n",
      "iteration 1200 / 2000: loss 2.215897\n",
      "iteration 1300 / 2000: loss 2.133421\n",
      "iteration 1400 / 2000: loss 2.150576\n",
      "iteration 1500 / 2000: loss 2.233137\n",
      "iteration 1600 / 2000: loss 2.186073\n",
      "iteration 1700 / 2000: loss 2.115034\n",
      "iteration 1800 / 2000: loss 2.299749\n",
      "iteration 1900 / 2000: loss 2.129383\n",
      "lr 1.000000e-07 reg 2.500000e+04 train accuracy: 0.327612 val accuracy: 0.356000\n",
      "lr 1.000000e-07 reg 5.000000e+04 train accuracy: 0.318653 val accuracy: 0.330000\n",
      "lr 5.000000e-07 reg 2.500000e+04 train accuracy: 0.291082 val accuracy: 0.302000\n",
      "lr 5.000000e-07 reg 5.000000e+04 train accuracy: 0.302531 val accuracy: 0.315000\n",
      "best validation accuracy achieved during cross-validation: 0.356000\n"
     ]
    }
   ],
   "source": [
    "# Use the validation set to tune hyperparameters (regularization strength and\n",
    "# learning rate). You should experiment with different ranges for the learning\n",
    "# rates and regularization strengths; if you are careful you should be able to\n",
    "# get a classification accuracy of over 0.35 on the validation set.\n",
    "from cs231n.classifiers import Softmax\n",
    "results = {}\n",
    "best_val = -1\n",
    "best_softmax = None\n",
    "learning_rates = [1e-7, 5e-7]\n",
    "regularization_strengths = [2.5e4, 5e4]\n",
    "\n",
    "################################################################################\n",
    "# TODO:                                                                        #\n",
    "# Use the validation set to set the learning rate and regularization strength. #\n",
    "# This should be identical to the validation that you did for the SVM; save    #\n",
    "# the best trained softmax classifer in best_softmax.                          #\n",
    "################################################################################\n",
    "for lr in learning_rates:\n",
    "    for rs in regularization_strengths:\n",
    "        softmax = Softmax()\n",
    "        softmax.train(X_train, y_train, learning_rate=lr, reg=rs,\n",
    "                          num_iters=2000, verbose=True)\n",
    "        y_train_pred = softmax.predict(X_train)\n",
    "        y_val_pred = softmax.predict(X_val)\n",
    "        train_accuracy = np.mean(y_train == y_train_pred)\n",
    "        val_accuracy = np.mean(y_val == y_val_pred)\n",
    "        if val_accuracy > best_val:\n",
    "            best_val = val_accuracy\n",
    "            best_softmax = softmax\n",
    "            \n",
    "        results[(lr,rs)] = train_accuracy, val_accuracy\n",
    "################################################################################\n",
    "#                              END OF YOUR CODE                                #\n",
    "################################################################################\n",
    "    \n",
    "# Print out results.\n",
    "for lr, reg in sorted(results):\n",
    "    train_accuracy, val_accuracy = results[(lr, reg)]\n",
    "    print('lr %e reg %e train accuracy: %f val accuracy: %f' % (\n",
    "                lr, reg, train_accuracy, val_accuracy))\n",
    "    \n",
    "print('best validation accuracy achieved during cross-validation: %f' % best_val)"
   ]
  },
  {
   "cell_type": "code",
   "execution_count": 7,
   "metadata": {
    "collapsed": false
   },
   "outputs": [
    {
     "name": "stdout",
     "output_type": "stream",
     "text": [
      "softmax on raw pixels final test set accuracy: 0.338000\n"
     ]
    }
   ],
   "source": [
    "# evaluate on test set\n",
    "# Evaluate the best softmax on test set\n",
    "y_test_pred = best_softmax.predict(X_test)\n",
    "test_accuracy = np.mean(y_test == y_test_pred)\n",
    "print('softmax on raw pixels final test set accuracy: %f' % (test_accuracy, ))"
   ]
  },
  {
   "cell_type": "code",
   "execution_count": 8,
   "metadata": {
    "collapsed": false
   },
   "outputs": [
    {
     "data": {
      "image/png": "[encoded data removed]",
      "text/plain": [
       "<matplotlib.figure.Figure at 0x22a00c7fe10>"
      ]
     },
     "metadata": {},
     "output_type": "display_data"
    }
   ],
   "source": [
    "# Visualize the learned weights for each class\n",
    "w = best_softmax.W[:-1,:] # strip out the bias\n",
    "w = w.reshape(32, 32, 3, 10)\n",
    "\n",
    "w_min, w_max = np.min(w), np.max(w)\n",
    "\n",
    "classes = ['plane', 'car', 'bird', 'cat', 'deer', 'dog', 'frog', 'horse', 'ship', 'truck']\n",
    "for i in range(10):\n",
    "    plt.subplot(2, 5, i + 1)\n",
    "    \n",
    "    # Rescale the weights to be between 0 and 255\n",
    "    wimg = 255.0 * (w[:, :, :, i].squeeze() - w_min) / (w_max - w_min)\n",
    "    plt.imshow(wimg.astype('uint8'))\n",
    "    plt.axis('off')\n",
    "    plt.title(classes[i])"
   ]
  },
  {
   "cell_type": "code",
   "execution_count": null,
   "metadata": {
    "collapsed": true
   },
   "outputs": [],
   "source": []
  }
 ],
 "metadata": {
  "kernelspec": {
   "display_name": "Python 3",
   "language": "python",
   "name": "python3"
  },
  "language_info": {
   "codemirror_mode": {
    "name": "ipython",
    "version": 3
   },
   "file_extension": ".py",
   "mimetype": "text/x-python",
   "name": "python",
   "nbconvert_exporter": "python",
   "pygments_lexer": "ipython3",
   "version": "3.6.0"
  }
 },
 "nbformat": 4,
 "nbformat_minor": 0
}
